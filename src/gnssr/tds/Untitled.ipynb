{
 "cells": [
  {
   "cell_type": "code",
   "execution_count": 1,
   "metadata": {},
   "outputs": [],
   "source": [
    "#!/usr/bin/env python\n",
    "\n",
    "import numpy as np\n",
    "import os\n",
    "from shapely import geometry\n",
    "import tkinter\n",
    "import matplotlib.pyplot as plt\n",
    "from netCDF4 import Dataset\n",
    "\n",
    "from gnssr.tds.tds_data import *\n",
    "from gnssr.utils import *\n",
    "from gnssr.targets import *\n",
    "\n"
   ]
  },
  {
   "cell_type": "code",
   "execution_count": 103,
   "metadata": {},
   "outputs": [
    {
     "data": {
      "image/png": "[encoded data removed]",
      "text/plain": [
       "<Figure size 720x288 with 1 Axes>"
      ]
     },
     "metadata": {},
     "output_type": "display_data"
    },
    {
     "ename": "AttributeError",
     "evalue": "'tds_data' object has no attribute 'index_l2b'",
     "output_type": "error",
     "traceback": [
      "\u001b[0;31m---------------------------------------------------------------------------\u001b[0m",
      "\u001b[0;31mAttributeError\u001b[0m                            Traceback (most recent call last)",
      "\u001b[0;32m<ipython-input-103-6c5275782529>\u001b[0m in \u001b[0;36m<module>\u001b[0;34m()\u001b[0m\n\u001b[1;32m     15\u001b[0m \u001b[0mtds\u001b[0m\u001b[0;34m.\u001b[0m\u001b[0mplot_ddm\u001b[0m\u001b[0;34m(\u001b[0m\u001b[0;34m)\u001b[0m\u001b[0;34m\u001b[0m\u001b[0m\n\u001b[1;32m     16\u001b[0m \u001b[0;34m\u001b[0m\u001b[0m\n\u001b[0;32m---> 17\u001b[0;31m \u001b[0mprint\u001b[0m\u001b[0;34m(\u001b[0m\u001b[0mtds\u001b[0m\u001b[0;34m.\u001b[0m\u001b[0ml2b\u001b[0m\u001b[0;34m.\u001b[0m\u001b[0mvariables\u001b[0m\u001b[0;34m[\u001b[0m\u001b[0;34m'WindSpeed'\u001b[0m\u001b[0;34m]\u001b[0m\u001b[0;34m[\u001b[0m\u001b[0mtds\u001b[0m\u001b[0;34m.\u001b[0m\u001b[0mindex_l2b\u001b[0m\u001b[0;34m]\u001b[0m\u001b[0;34m.\u001b[0m\u001b[0mdata\u001b[0m\u001b[0;34m)\u001b[0m\u001b[0;34m\u001b[0m\u001b[0m\n\u001b[0m\u001b[1;32m     18\u001b[0m \u001b[0mprint\u001b[0m\u001b[0;34m(\u001b[0m\u001b[0mtds\u001b[0m\u001b[0;34m.\u001b[0m\u001b[0mpeak_power\u001b[0m\u001b[0;34m(\u001b[0m\u001b[0;34m)\u001b[0m\u001b[0;34m)\u001b[0m\u001b[0;34m\u001b[0m\u001b[0m\n\u001b[1;32m     19\u001b[0m \u001b[0;34m\u001b[0m\u001b[0m\n",
      "\u001b[0;31mAttributeError\u001b[0m: 'tds_data' object has no attribute 'index_l2b'"
     ]
    }
   ],
   "source": [
    "# Di Simone\n",
    "\n",
    "file_root_name = 'raw/L1B/2017-05-31-H18'\n",
    "target = targets['hibernia']\n",
    "group = '000095'\n",
    "index = 100\n",
    "\n",
    "\n",
    "file_root_name = '2017-05-25-H00'\n",
    "target = targets['hibernia']\n",
    "group = '000105'\n",
    "index = 155\n",
    "\n",
    "tds = tds_data(file_root_name, group, index)\n",
    "tds.plot_ddm()\n",
    "\n",
    "print(tds.l2b.variables['WindSpeed'][tds.index_l2b].data)\n",
    "print(tds.peak_power())\n",
    "\n",
    "r_spx = tds.metagrp.groups[tds.group].variables['SpecularPointPositionX'][tds.index]\n",
    "print(r_spx)"
   ]
  },
  {
   "cell_type": "code",
   "execution_count": null,
   "metadata": {},
   "outputs": [],
   "source": [
    "print(tds.rootgrp.groups[tds.group].variables['IntegrationMidPointTime'][tds.index].data)\n",
    "print(tds.metagrp.groups[tds.group].variables['IntegrationMidPointTime'][tds.index].data)"
   ]
  },
  {
   "cell_type": "code",
   "execution_count": 3,
   "metadata": {},
   "outputs": [
    {
     "name": "stdout",
     "output_type": "stream",
     "text": [
      "<class 'netCDF4._netCDF4.Group'>\n",
      "group /000105:\n",
      "    TrackID: 105\n",
      "    DataTag: 18\n",
      "    PtrId: 1808\n",
      "    ReflectionChannelNumber: 1\n",
      "    MasterChannelNumber: 4\n",
      "    PRN: 11\n",
      "    SVN: 46\n",
      "    GnssBlock: 5\n",
      "    GnssBlock_units: SSTL.ZTCDataMergeTools.TransmitterCorrections+GPSBlockEnum>0:Unknown,1:BlockI,2:BlockII,3:BlockIIA,4:BlockIIR,5:BlockIIR_A,6:BlockIIR_B,7:BlockIIR_M,8:BlockIIF\n",
      "    FrontEnd: 1\n",
      "    FrontEnd_units: SSTL.ZTCDataMergeTools.TrackMetaDataHeader+FrontEndEnum>0:ZenithL1_DF,1:NadirL1,2:ZenithL1_CLAP,3:ZenithL1_CAP,4:Unknown5,5:Unknown6,6:ZenithL2_DF,7:NadirL2,8:Unknown\n",
      "    SignalType: 1\n",
      "    SignalType_units: SSTL.ZTCDataMergeTools.TrackMetaDataHeader+SignalTypeEnum>0:NO_SIGNAL,1:GPS_L1\n",
      "    SamplingFrequency: 16367000.0\n",
      "    AllocationMode: 1\n",
      "    AllocationMode_units: SSTL.ZTCDataMergeTools.TrackMetaDataHeader+AllocationModeEnum>0:Manual,1:Auto,2:Unknown\n",
      "    TrackingMode: 2\n",
      "    TrackingMode_units: SSTL.ZTCStreamProcessing.DDMTrackHeader+TrackingModeEnum>0:Idle,1:DirectSignalOverride,2:OpenLoopReflection,3:ZenithBlackBody\n",
      "    FrontEndGainMode: 0\n",
      "    FrontEndGainMode_units: SSTL.ZTCDataMergeTools.TrackMetaDataHeader+FrontEndGainModeEnum>0:FixedGain,1:AutoUnmonitored,2:AutomaticMonitored\n",
      "    FrontEndGainControlSetting: 36\n",
      "    LNASwitchStatus: 0\n",
      "    LNASwitchStatus_units: SSTL.ZTCDataMergeTools.TrackMetaDataHeader+LNASwitchStatusEnum>0:Antenna,1:Reference\n",
      "    CoherentIntegrationTime: 1.0\n",
      "    DelayResolution: 244.3942108154297\n",
      "    CodeDelaySpacingSamplesBetweenPixels: 4\n",
      "    DopplerResolution: 500.0\n",
      "    IncoherentIntegrations: 1000\n",
      "    NumberOfDelayPixels: 128\n",
      "    NumberOfDopplerPixels: 20\n",
      "    TrackingOffsetDelayNs: 15641.228302001953\n",
      "    TrackingOffsetDelayInPixels: 63.999995130058345\n",
      "    TrackingOffsetDopplerHz: 0.0\n",
      "    TrackingOffsetDopplerInPixels: 0.0\n",
      "    dimensions(sizes): DateTimeTrack(815)\n",
      "    variables(dimensions): float64 \u001b[4mIntegrationMidPointTime\u001b[0m(DateTimeTrack), float64 \u001b[4mTransmitterPositionX\u001b[0m(DateTimeTrack), float64 \u001b[4mTransmitterPositionY\u001b[0m(DateTimeTrack), float64 \u001b[4mTransmitterPositionZ\u001b[0m(DateTimeTrack), float64 \u001b[4mTransmitterVelocityX\u001b[0m(DateTimeTrack), float64 \u001b[4mTransmitterVelocityY\u001b[0m(DateTimeTrack), float64 \u001b[4mTransmitterVelocityZ\u001b[0m(DateTimeTrack), float64 \u001b[4mSpecularPointPositionX\u001b[0m(DateTimeTrack), float64 \u001b[4mSpecularPointPositionY\u001b[0m(DateTimeTrack), float64 \u001b[4mSpecularPointPositionZ\u001b[0m(DateTimeTrack), float32 \u001b[4mSpecularPointLat\u001b[0m(DateTimeTrack), float32 \u001b[4mSpecularPointLon\u001b[0m(DateTimeTrack), float64 \u001b[4mSpecularPathRangeOffset\u001b[0m(DateTimeTrack), float32 \u001b[4mSPIncidenceAngle\u001b[0m(DateTimeTrack), float32 \u001b[4mSPElevationORF\u001b[0m(DateTimeTrack), float32 \u001b[4mSPAzimuthORF\u001b[0m(DateTimeTrack), float32 \u001b[4mSPElevationARF\u001b[0m(DateTimeTrack), float32 \u001b[4mSPAzimuthARF\u001b[0m(DateTimeTrack), uint8 \u001b[4mDirectSignalInDDM\u001b[0m(DateTimeTrack), float32 \u001b[4mLNATemperature\u001b[0m(DateTimeTrack), float32 \u001b[4mADCPercentagePositive\u001b[0m(DateTimeTrack), float32 \u001b[4mADCOffset\u001b[0m(DateTimeTrack), float32 \u001b[4mADCPercentageMagnitude\u001b[0m(DateTimeTrack), float32 \u001b[4mAntennaGainTowardsSpecularPoint\u001b[0m(DateTimeTrack), float32 \u001b[4mAntennaGainRangeMin\u001b[0m(DateTimeTrack), float32 \u001b[4mAntennaGainRangeMax\u001b[0m(DateTimeTrack), float64 \u001b[4mDDMOutputNumericalScaling\u001b[0m(DateTimeTrack), float64 \u001b[4mDDMPixelValueNoise\u001b[0m(DateTimeTrack), float64 \u001b[4mMeanNoiseHighDoppler\u001b[0m(DateTimeTrack), float64 \u001b[4mMeanNoiseBox\u001b[0m(DateTimeTrack), float64 \u001b[4mKurtosisNoiseBox\u001b[0m(DateTimeTrack), float64 \u001b[4mNoiseBoxRows\u001b[0m(DateTimeTrack), float64 \u001b[4mDDMSNRAtPeakSingleDDM\u001b[0m(DateTimeTrack), float32 \u001b[4mAntennaTemperature\u001b[0m(DateTimeTrack), float32 \u001b[4mAntennaTemperatureExtRef\u001b[0m(DateTimeTrack)\n",
      "    groups: \n",
      "\n"
     ]
    }
   ],
   "source": [
    "code_delay_spacing_samples_between_pixels = tds.metagrp.groups[tds.group]\n",
    "print(code_delay_spacing_samples_between_pixels)"
   ]
  },
  {
   "cell_type": "code",
   "execution_count": null,
   "metadata": {},
   "outputs": [],
   "source": []
  },
  {
   "cell_type": "code",
   "execution_count": 4,
   "metadata": {},
   "outputs": [
    {
     "ename": "FileNotFoundError",
     "evalue": "[Errno 2] No such file or directory: b'/home/woowapdabug/projects/thesis/py_venv_gnssr/src/gnssr/tds/raw/L1B/raw/L1B/2017-11-11-H18-DDMs.nc'",
     "output_type": "error",
     "traceback": [
      "\u001b[0;31m---------------------------------------------------------------------------\u001b[0m",
      "\u001b[0;31mFileNotFoundError\u001b[0m                         Traceback (most recent call last)",
      "\u001b[0;32m<ipython-input-4-4e07693b8e3a>\u001b[0m in \u001b[0;36m<module>\u001b[0;34m()\u001b[0m\n\u001b[1;32m     41\u001b[0m \u001b[0mindex\u001b[0m \u001b[0;34m=\u001b[0m \u001b[0;36m350\u001b[0m\u001b[0;34m\u001b[0m\u001b[0m\n\u001b[1;32m     42\u001b[0m \u001b[0;34m\u001b[0m\u001b[0m\n\u001b[0;32m---> 43\u001b[0;31m \u001b[0mtds\u001b[0m \u001b[0;34m=\u001b[0m \u001b[0mtds_data\u001b[0m\u001b[0;34m(\u001b[0m\u001b[0mfile_root_name\u001b[0m\u001b[0;34m,\u001b[0m \u001b[0mgroup\u001b[0m\u001b[0;34m,\u001b[0m \u001b[0mindex\u001b[0m\u001b[0;34m)\u001b[0m\u001b[0;34m\u001b[0m\u001b[0m\n\u001b[0m\u001b[1;32m     44\u001b[0m \u001b[0mtds\u001b[0m\u001b[0;34m.\u001b[0m\u001b[0mfind_index_meta\u001b[0m\u001b[0;34m(\u001b[0m\u001b[0;34m)\u001b[0m\u001b[0;34m\u001b[0m\u001b[0m\n\u001b[1;32m     45\u001b[0m \u001b[0;34m\u001b[0m\u001b[0m\n",
      "\u001b[0;32m~/projects/thesis/py_venv_gnssr/src/gnssr/tds/tds_data.py\u001b[0m in \u001b[0;36m__init__\u001b[0;34m(self, file_root_name, group, index)\u001b[0m\n\u001b[1;32m     11\u001b[0m     \u001b[0;32mdef\u001b[0m \u001b[0m__init__\u001b[0m\u001b[0;34m(\u001b[0m\u001b[0mself\u001b[0m\u001b[0;34m,\u001b[0m \u001b[0mfile_root_name\u001b[0m\u001b[0;34m,\u001b[0m \u001b[0mgroup\u001b[0m\u001b[0;34m,\u001b[0m \u001b[0mindex\u001b[0m\u001b[0;34m)\u001b[0m\u001b[0;34m:\u001b[0m\u001b[0;34m\u001b[0m\u001b[0m\n\u001b[1;32m     12\u001b[0m         \u001b[0mrootgrp_path\u001b[0m \u001b[0;34m=\u001b[0m \u001b[0mos\u001b[0m\u001b[0;34m.\u001b[0m\u001b[0mpath\u001b[0m\u001b[0;34m.\u001b[0m\u001b[0mjoin\u001b[0m\u001b[0;34m(\u001b[0m\u001b[0mos\u001b[0m\u001b[0;34m.\u001b[0m\u001b[0menviron\u001b[0m\u001b[0;34m[\u001b[0m\u001b[0;34m'TDS_ROOT'\u001b[0m\u001b[0;34m]\u001b[0m\u001b[0;34m,\u001b[0m \u001b[0;34m'raw/L1B/'\u001b[0m\u001b[0;34m+\u001b[0m\u001b[0mfile_root_name\u001b[0m\u001b[0;34m+\u001b[0m\u001b[0;34m'-DDMs.nc'\u001b[0m\u001b[0;34m)\u001b[0m\u001b[0;34m\u001b[0m\u001b[0m\n\u001b[0;32m---> 13\u001b[0;31m         \u001b[0mself\u001b[0m\u001b[0;34m.\u001b[0m\u001b[0mrootgrp\u001b[0m \u001b[0;34m=\u001b[0m \u001b[0mDataset\u001b[0m\u001b[0;34m(\u001b[0m\u001b[0mrootgrp_path\u001b[0m\u001b[0;34m,\u001b[0m \u001b[0;34m\"r\"\u001b[0m\u001b[0;34m,\u001b[0m \u001b[0mformat\u001b[0m\u001b[0;34m=\u001b[0m\u001b[0;34m\"NETCDF4\"\u001b[0m\u001b[0;34m)\u001b[0m\u001b[0;34m\u001b[0m\u001b[0m\n\u001b[0m\u001b[1;32m     14\u001b[0m         \u001b[0mmetagrp_path\u001b[0m \u001b[0;34m=\u001b[0m \u001b[0mos\u001b[0m\u001b[0;34m.\u001b[0m\u001b[0mpath\u001b[0m\u001b[0;34m.\u001b[0m\u001b[0mjoin\u001b[0m\u001b[0;34m(\u001b[0m\u001b[0mos\u001b[0m\u001b[0;34m.\u001b[0m\u001b[0menviron\u001b[0m\u001b[0;34m[\u001b[0m\u001b[0;34m'TDS_ROOT'\u001b[0m\u001b[0;34m]\u001b[0m\u001b[0;34m,\u001b[0m \u001b[0;34m'raw/L1B/'\u001b[0m\u001b[0;34m+\u001b[0m\u001b[0mfile_root_name\u001b[0m\u001b[0;34m+\u001b[0m\u001b[0;34m'-metadata.nc'\u001b[0m\u001b[0;34m)\u001b[0m\u001b[0;34m\u001b[0m\u001b[0m\n\u001b[1;32m     15\u001b[0m         \u001b[0mself\u001b[0m\u001b[0;34m.\u001b[0m\u001b[0mmetagrp\u001b[0m \u001b[0;34m=\u001b[0m \u001b[0mDataset\u001b[0m\u001b[0;34m(\u001b[0m\u001b[0mmetagrp_path\u001b[0m\u001b[0;34m,\u001b[0m \u001b[0;34m\"r\"\u001b[0m\u001b[0;34m,\u001b[0m \u001b[0mformat\u001b[0m\u001b[0;34m=\u001b[0m\u001b[0;34m\"NETCDF4\"\u001b[0m\u001b[0;34m)\u001b[0m\u001b[0;34m\u001b[0m\u001b[0m\n",
      "\u001b[0;32mnetCDF4/_netCDF4.pyx\u001b[0m in \u001b[0;36mnetCDF4._netCDF4.Dataset.__init__\u001b[0;34m()\u001b[0m\n",
      "\u001b[0;32mnetCDF4/_netCDF4.pyx\u001b[0m in \u001b[0;36mnetCDF4._netCDF4._ensure_nc_success\u001b[0;34m()\u001b[0m\n",
      "\u001b[0;31mFileNotFoundError\u001b[0m: [Errno 2] No such file or directory: b'/home/woowapdabug/projects/thesis/py_venv_gnssr/src/gnssr/tds/raw/L1B/raw/L1B/2017-11-11-H18-DDMs.nc'"
     ]
    }
   ],
   "source": [
    "'''\n",
    "\n",
    "    ddmPeak = metadata.trackVars(:, metadata.trackVarNames.DDMOutputNumericalScaling);\n",
    "    noiseEstimate = metadata.trackVars(:, metadata.trackVarNames.MeanNoiseBox);\n",
    "    systemGainBB_dB = metadata.trackVars(:, metadata.trackVarNames.SystemGainBB) + metadata.trackVars(:, metadata.trackVarNames.SystemGainBBComp);\n",
    "    systemGainExtRef_dB = metadata.trackVars(:, metadata.trackVarNames.SystemGainExtRef) + metadata.trackVars(:, metadata.trackVarNames.SystemGainExtRefComp);\n",
    "    systemGainLin = zeros(size(systemGainBB_dB));\n",
    "    for idx = 1:metadata.trackLength\n",
    "        if metadata.trackVars(idx, metadata.trackVarNames.ReferenceType) == 1 %Blackbody\n",
    "            systemGainLin(idx) = 10.^(systemGainBB_dB(idx) / 10);\n",
    "        elseif metadata.trackVars(idx, metadata.trackVarNames.ReferenceType) == 2 %ExtRef\n",
    "            systemGainLin(idx) = 10.^(systemGainExtRef_dB(idx) / 10);\n",
    "        elseif metadata.trackVars(:, metadata.trackVarNames.ReferenceType) == 3 %Both available\n",
    "            systemGainLin(idx) = 10.^(systemGainBB_dB(idx) / 10);\n",
    "        else\n",
    "            systemGainLin(idx) = nan;\n",
    "        end\n",
    "    end\n",
    "    inputCableGainLin = 10.^(-0.6/10);\n",
    "\n",
    "    peakReceivedPowerLin = calcReceivedPowerSMN(ddmPeak, noiseEstimate, systemGainLin, inputCableGainLin);\n",
    "    peakReceivedPower_dB = 10*log10(peakReceivedPowerLin); %dBW\n",
    "\n",
    "\n",
    "\n",
    "\n",
    "    receivedPower = (ddmPixel - noiseEstimate) ...\n",
    "                        ./ systemGain ...\n",
    "                        ./ inputCableGainLin;\n",
    "'''\n",
    "'''\n",
    "file_root_name = 'raw/L1B/2017-05-31-H18'\n",
    "target = targets['hibernia']\n",
    "group = '000095'\n",
    "index = 100\n",
    "'''\n",
    "\n",
    "file_root_name = 'raw/L1B/2017-11-11-H18'\n",
    "target = targets['hibernia']\n",
    "group = '000015'\n",
    "index = 350\n",
    "\n",
    "tds = tds_data(file_root_name, group, index)\n",
    "tds.find_index_meta()\n",
    "    \n",
    "#print(tds.metagrp.groups[tds.group].variables['IntegrationMidPointTime'][tds.index].data)\n",
    "ddmPeak = tds.metagrp.groups[tds.group].variables['DDMOutputNumericalScaling'][tds.index].data\n",
    "noiseEstimate = tds.metagrp.groups[tds.group].variables['MeanNoiseBox'][tds.index].data\n",
    "\n",
    "systemGainBB_dB = tds.metagrp.variables['SystemGainBB'][tds.index_meta].data + tds.metagrp.variables['SystemGainBBComp'][tds.index_meta].data\n",
    "systemGainExtRef_dB = tds.metagrp.variables['SystemGainExtRef'][tds.index_meta].data + tds.metagrp.variables['SystemGainExtRefComp'][tds.index_meta].data\n",
    "\n",
    "referenceType = tds.metagrp.variables['ReferenceType'][tds.index_meta].data\n",
    "systemGainLin = 0\n",
    "if (referenceType == 1) :\n",
    "    systemGainLin = 10**(systemGainBB_dB/10)\n",
    "elif (referenceType == 2) :\n",
    "    systemGainLin = 10**(systemGainExtRef_dB/10)\n",
    "elif (referenceType == 3) :\n",
    "    systemGainLin = 10**(systemGainBB_dB/10)\n",
    "else :\n",
    "    print('No power data available')\n",
    "\n",
    "inputCableGainLin = 10**(-0.6/10);\n",
    "\n",
    "power = (ddmPeak - noiseEstimate)/systemGainLin/inputCableGainLin\n",
    "print(power)\n"
   ]
  },
  {
   "cell_type": "code",
   "execution_count": 6,
   "metadata": {},
   "outputs": [
    {
     "ename": "AttributeError",
     "evalue": "'tds_data' object has no attribute 'index_l2b'",
     "output_type": "error",
     "traceback": [
      "\u001b[0;31m---------------------------------------------------------------------------\u001b[0m",
      "\u001b[0;31mAttributeError\u001b[0m                            Traceback (most recent call last)",
      "\u001b[0;32m<ipython-input-6-4cbab0d52f02>\u001b[0m in \u001b[0;36m<module>\u001b[0;34m()\u001b[0m\n\u001b[1;32m      6\u001b[0m \u001b[0mtds\u001b[0m\u001b[0;34m.\u001b[0m\u001b[0mset_group_index\u001b[0m\u001b[0;34m(\u001b[0m\u001b[0mgroup\u001b[0m\u001b[0;34m,\u001b[0m\u001b[0mindex\u001b[0m\u001b[0;34m)\u001b[0m\u001b[0;34m\u001b[0m\u001b[0m\n\u001b[1;32m      7\u001b[0m \u001b[0;34m\u001b[0m\u001b[0m\n\u001b[0;32m----> 8\u001b[0;31m \u001b[0mtds\u001b[0m\u001b[0;34m.\u001b[0m\u001b[0ml2b\u001b[0m\u001b[0;34m.\u001b[0m\u001b[0mvariables\u001b[0m\u001b[0;34m[\u001b[0m\u001b[0;34m'WindSpeed'\u001b[0m\u001b[0;34m]\u001b[0m\u001b[0;34m[\u001b[0m\u001b[0mtds\u001b[0m\u001b[0;34m.\u001b[0m\u001b[0mindex_l2b\u001b[0m\u001b[0;34m]\u001b[0m\u001b[0;34m.\u001b[0m\u001b[0mdata\u001b[0m\u001b[0;34m\u001b[0m\u001b[0m\n\u001b[0m",
      "\u001b[0;31mAttributeError\u001b[0m: 'tds_data' object has no attribute 'index_l2b'"
     ]
    }
   ],
   "source": [
    "file_root_name = '2017-05-25-H00'\n",
    "target = targets['hibernia']\n",
    "group = '000085'\n",
    "index = 100\n",
    "\n",
    "tds.set_group_index(group,index)\n",
    "\n",
    "tds.l2b.variables['WindSpeed'][tds.index_l2b].data"
   ]
  },
  {
   "cell_type": "code",
   "execution_count": 7,
   "metadata": {},
   "outputs": [
    {
     "data": {
      "text/plain": [
       "masked_array(data=-5046792.51086865,\n",
       "             mask=False,\n",
       "       fill_value=1e+20)"
      ]
     },
     "execution_count": 7,
     "metadata": {},
     "output_type": "execute_result"
    }
   ],
   "source": [
    "\n",
    "tds.metagrp.groups['000075'].variables['SpecularPointPositionX'][200]"
   ]
  },
  {
   "cell_type": "code",
   "execution_count": 102,
   "metadata": {},
   "outputs": [
    {
     "ename": "IndexError",
     "evalue": "index exceeds dimension bounds",
     "output_type": "error",
     "traceback": [
      "\u001b[0;31m---------------------------------------------------------------------------\u001b[0m",
      "\u001b[0;31mIndexError\u001b[0m                                Traceback (most recent call last)",
      "\u001b[0;32m<ipython-input-102-c1fefdb8cf4b>\u001b[0m in \u001b[0;36m<module>\u001b[0;34m()\u001b[0m\n\u001b[1;32m      4\u001b[0m \u001b[0mindex\u001b[0m \u001b[0;34m=\u001b[0m \u001b[0;36m675\u001b[0m\u001b[0;34m-\u001b[0m\u001b[0;36m30\u001b[0m\u001b[0;34m\u001b[0m\u001b[0m\n\u001b[1;32m      5\u001b[0m \u001b[0;34m\u001b[0m\u001b[0m\n\u001b[0;32m----> 6\u001b[0;31m \u001b[0mtds\u001b[0m \u001b[0;34m=\u001b[0m \u001b[0mtds_data\u001b[0m\u001b[0;34m(\u001b[0m\u001b[0mfile_root_name\u001b[0m\u001b[0;34m,\u001b[0m \u001b[0mgroup\u001b[0m\u001b[0;34m,\u001b[0m \u001b[0mindex\u001b[0m\u001b[0;34m)\u001b[0m\u001b[0;34m\u001b[0m\u001b[0m\n\u001b[0m\u001b[1;32m      7\u001b[0m \u001b[0;34m\u001b[0m\u001b[0m\n\u001b[1;32m      8\u001b[0m \u001b[0mddm_tds_0\u001b[0m \u001b[0;34m=\u001b[0m \u001b[0mnormalize\u001b[0m\u001b[0;34m(\u001b[0m\u001b[0mnp\u001b[0m\u001b[0;34m.\u001b[0m\u001b[0mcopy\u001b[0m\u001b[0;34m(\u001b[0m\u001b[0mtds\u001b[0m\u001b[0;34m.\u001b[0m\u001b[0mrootgrp\u001b[0m\u001b[0;34m.\u001b[0m\u001b[0mgroups\u001b[0m\u001b[0;34m[\u001b[0m\u001b[0mgroup\u001b[0m\u001b[0;34m]\u001b[0m\u001b[0;34m.\u001b[0m\u001b[0mvariables\u001b[0m\u001b[0;34m[\u001b[0m\u001b[0;34m'DDM'\u001b[0m\u001b[0;34m]\u001b[0m\u001b[0;34m[\u001b[0m\u001b[0mtds\u001b[0m\u001b[0;34m.\u001b[0m\u001b[0mindex\u001b[0m\u001b[0;34m]\u001b[0m\u001b[0;34m.\u001b[0m\u001b[0mdata\u001b[0m\u001b[0;34m)\u001b[0m\u001b[0;34m*\u001b[0m\u001b[0mtds\u001b[0m\u001b[0;34m.\u001b[0m\u001b[0mpeak_power\u001b[0m\u001b[0;34m(\u001b[0m\u001b[0;34m)\u001b[0m\u001b[0;34m)\u001b[0m\u001b[0;34m\u001b[0m\u001b[0m\n",
      "\u001b[0;32m~/projects/thesis/py_venv_gnssr/src/gnssr/tds/tds_data.py\u001b[0m in \u001b[0;36m__init__\u001b[0;34m(self, file_root_name, group, index)\u001b[0m\n\u001b[1;32m     20\u001b[0m             \u001b[0mprint\u001b[0m\u001b[0;34m(\u001b[0m\u001b[0;34m'No wind data available'\u001b[0m\u001b[0;34m)\u001b[0m\u001b[0;34m\u001b[0m\u001b[0m\n\u001b[1;32m     21\u001b[0m \u001b[0;34m\u001b[0m\u001b[0m\n\u001b[0;32m---> 22\u001b[0;31m         \u001b[0mself\u001b[0m\u001b[0;34m.\u001b[0m\u001b[0mset_group_index\u001b[0m\u001b[0;34m(\u001b[0m\u001b[0mgroup\u001b[0m\u001b[0;34m,\u001b[0m \u001b[0mindex\u001b[0m\u001b[0;34m)\u001b[0m\u001b[0;34m\u001b[0m\u001b[0m\n\u001b[0m\u001b[1;32m     23\u001b[0m \u001b[0;34m\u001b[0m\u001b[0m\n\u001b[1;32m     24\u001b[0m     \u001b[0;32mdef\u001b[0m \u001b[0mfind_index_meta\u001b[0m\u001b[0;34m(\u001b[0m\u001b[0mself\u001b[0m\u001b[0;34m)\u001b[0m\u001b[0;34m:\u001b[0m\u001b[0;34m\u001b[0m\u001b[0m\n",
      "\u001b[0;32m~/projects/thesis/py_venv_gnssr/src/gnssr/tds/tds_data.py\u001b[0m in \u001b[0;36mset_group_index\u001b[0;34m(self, group, index)\u001b[0m\n\u001b[1;32m     89\u001b[0m         \u001b[0mself\u001b[0m\u001b[0;34m.\u001b[0m\u001b[0mgroup\u001b[0m \u001b[0;34m=\u001b[0m \u001b[0mgroup\u001b[0m\u001b[0;34m\u001b[0m\u001b[0m\n\u001b[1;32m     90\u001b[0m         \u001b[0mself\u001b[0m\u001b[0;34m.\u001b[0m\u001b[0mindex\u001b[0m \u001b[0;34m=\u001b[0m \u001b[0mindex\u001b[0m\u001b[0;34m\u001b[0m\u001b[0m\n\u001b[0;32m---> 91\u001b[0;31m         \u001b[0mself\u001b[0m\u001b[0;34m.\u001b[0m\u001b[0mindex_meta\u001b[0m \u001b[0;34m=\u001b[0m \u001b[0mself\u001b[0m\u001b[0;34m.\u001b[0m\u001b[0mfind_index_meta\u001b[0m\u001b[0;34m(\u001b[0m\u001b[0;34m)\u001b[0m\u001b[0;34m\u001b[0m\u001b[0m\n\u001b[0m\u001b[1;32m     92\u001b[0m \u001b[0;34m\u001b[0m\u001b[0m\n\u001b[1;32m     93\u001b[0m         \u001b[0mr_tx\u001b[0m \u001b[0;34m=\u001b[0m \u001b[0mself\u001b[0m\u001b[0;34m.\u001b[0m\u001b[0mmetagrp\u001b[0m\u001b[0;34m.\u001b[0m\u001b[0mgroups\u001b[0m\u001b[0;34m[\u001b[0m\u001b[0mself\u001b[0m\u001b[0;34m.\u001b[0m\u001b[0mgroup\u001b[0m\u001b[0;34m]\u001b[0m\u001b[0;34m.\u001b[0m\u001b[0mvariables\u001b[0m\u001b[0;34m[\u001b[0m\u001b[0;34m'TransmitterPositionX'\u001b[0m\u001b[0;34m]\u001b[0m\u001b[0;34m[\u001b[0m\u001b[0mself\u001b[0m\u001b[0;34m.\u001b[0m\u001b[0mindex\u001b[0m\u001b[0;34m]\u001b[0m\u001b[0;34m\u001b[0m\u001b[0m\n",
      "\u001b[0;32m~/projects/thesis/py_venv_gnssr/src/gnssr/tds/tds_data.py\u001b[0m in \u001b[0;36mfind_index_meta\u001b[0;34m(self)\u001b[0m\n\u001b[1;32m     28\u001b[0m         \u001b[0mcorresponding\u001b[0m \u001b[0mmeta_index\u001b[0m\u001b[0;34m\u001b[0m\u001b[0m\n\u001b[1;32m     29\u001b[0m         \"\"\"\n\u001b[0;32m---> 30\u001b[0;31m         \u001b[0mdatenum\u001b[0m \u001b[0;34m=\u001b[0m \u001b[0mself\u001b[0m\u001b[0;34m.\u001b[0m\u001b[0mrootgrp\u001b[0m\u001b[0;34m.\u001b[0m\u001b[0mgroups\u001b[0m\u001b[0;34m[\u001b[0m\u001b[0mself\u001b[0m\u001b[0;34m.\u001b[0m\u001b[0mgroup\u001b[0m\u001b[0;34m]\u001b[0m\u001b[0;34m.\u001b[0m\u001b[0mvariables\u001b[0m\u001b[0;34m[\u001b[0m\u001b[0;34m'IntegrationMidPointTime'\u001b[0m\u001b[0;34m]\u001b[0m\u001b[0;34m[\u001b[0m\u001b[0mself\u001b[0m\u001b[0;34m.\u001b[0m\u001b[0mindex\u001b[0m\u001b[0;34m]\u001b[0m\u001b[0;34m\u001b[0m\u001b[0m\n\u001b[0m\u001b[1;32m     31\u001b[0m         \u001b[0mdatenums_meta\u001b[0m \u001b[0;34m=\u001b[0m \u001b[0mnp\u001b[0m\u001b[0;34m.\u001b[0m\u001b[0marray\u001b[0m\u001b[0;34m(\u001b[0m\u001b[0mself\u001b[0m\u001b[0;34m.\u001b[0m\u001b[0mmetagrp\u001b[0m\u001b[0;34m.\u001b[0m\u001b[0mvariables\u001b[0m\u001b[0;34m[\u001b[0m\u001b[0;34m'IntegrationMidPointTime'\u001b[0m\u001b[0;34m]\u001b[0m\u001b[0;34m)\u001b[0m\u001b[0;34m\u001b[0m\u001b[0m\n\u001b[1;32m     32\u001b[0m         \u001b[0;32mfor\u001b[0m \u001b[0mi\u001b[0m\u001b[0;34m,\u001b[0m \u001b[0mdatenum_meta\u001b[0m \u001b[0;32min\u001b[0m \u001b[0menumerate\u001b[0m\u001b[0;34m(\u001b[0m\u001b[0mdatenums_meta\u001b[0m\u001b[0;34m)\u001b[0m\u001b[0;34m:\u001b[0m\u001b[0;34m\u001b[0m\u001b[0m\n",
      "\u001b[0;32mnetCDF4/_netCDF4.pyx\u001b[0m in \u001b[0;36mnetCDF4._netCDF4.Variable.__getitem__\u001b[0;34m()\u001b[0m\n",
      "\u001b[0;32mnetCDF4/_netCDF4.pyx\u001b[0m in \u001b[0;36mnetCDF4._netCDF4.Variable._get\u001b[0;34m()\u001b[0m\n",
      "\u001b[0;31mIndexError\u001b[0m: index exceeds dimension bounds"
     ]
    }
   ],
   "source": [
    "file_root_name = '2017-03-12-H18'\n",
    "target = targets['hibernia']\n",
    "group = '000105'\n",
    "index = 675-30\n",
    "\n",
    "tds = tds_data(file_root_name, group, index)\n",
    "\n",
    "ddm_tds_0 = normalize(np.copy(tds.rootgrp.groups[group].variables['DDM'][tds.index].data)*tds.peak_power())    \n",
    "# 1. Sea clutter estimation. \n",
    "# As target appear as bright spots, the initial estimation is based of the \n",
    "# composition of the minimum values for each pixel for the last n measurements\n",
    "n = 30 \n",
    "for i in range(1, n):\n",
    "    #ddm_i = normalize(self.ddm_list[i])\n",
    "    ddm_i = normalize(tds.rootgrp.groups[group].variables['DDM'][i].data*tds.peak_power())\n",
    "    for row_i, row in enumerate(ddm_tds):\n",
    "        for col_i, val in enumerate(row):\n",
    "            val_i = ddm_i[row_i][col_i]\n",
    "            val = ddm_tds[row_i][col_i]\n",
    "            min,max = np.sort([val_i,val])\n",
    "            ddm_tds[row_i][col_i] = 0.5*min +0.5*max\n",
    "\n",
    "# Using the self.sea_clutter_0 as initial estimation a low pass filter that gives \n",
    "# more weight to the lower values is applied \n",
    "n = 30 \n",
    "tau = 0.08\n",
    "ddm_tds = np.copy(ddm_tds_0)\n",
    "for i in range(1, n):\n",
    "    ddm_i = normalize(tds.rootgrp.groups[group].variables['DDM'][i].data*tds.peak_power())\n",
    "    for row_i, row in enumerate(ddm_tds):\n",
    "        for col_i, val in enumerate(row):\n",
    "            val_i = ddm_i[row_i][col_i]\n",
    "            val = ddm_tds[row_i][col_i]\n",
    "            #min,max = np.sort([val_i,val])\n",
    "            #new_val = 0.7*min + 0.3*max;\n",
    "            ddm_tds[row_i][col_i] = val + tau*(val_i - val)\n",
    "\n",
    "# Plot TDS DDM sea clutter\n",
    "tds.set_group_index(group, index)\n",
    "r_sp, lat_sp, lon_sp = tds.find_sp();\n",
    "datenum = tds.rootgrp.groups[tds.group].variables['IntegrationMidPointTime'][tds.index]\n",
    "\n",
    "string = str(datenum_to_pytime(float(datenum))) \\\n",
    "    + ' Lat: ' + \"{0:.2f}\".format(tds.lat_sp_tds) \\\n",
    "    + ' Lon: ' + \"{0:.2f}\".format(tds.lon_sp_tds)\n",
    "\n",
    "number_of_delay_pixels = tds.metagrp.groups[tds.group].NumberOfDelayPixels\n",
    "number_of_doppler_pixels = tds.metagrp.groups[tds.group].NumberOfDopplerPixels\n",
    "\n",
    "delay_start = tds.calculate_delay_increment_chips(0)\n",
    "delay_end = tds.calculate_delay_increment_chips(number_of_delay_pixels-1)\n",
    "doppler_start = tds.calculate_doppler_increment(-np.floor(number_of_doppler_pixels/2))\n",
    "doppler_end = tds.calculate_doppler_increment(np.floor(number_of_doppler_pixels/2 - 0.5))\n",
    "\n",
    "fig_tds, ax_tds = plt.subplots(1,figsize=(10, 4))\n",
    "plt.title('TDS-1 Experimental Data')\n",
    "plt.xlabel('C/A chips')\n",
    "plt.ylabel('Hz')\n",
    "contour_tds = ax_tds.imshow(normalize(tds.rootgrp.groups[tds.group].variables['DDM'][tds.index].data)*tds.peak_power(), cmap='jet', \n",
    "        extent=(delay_start, delay_end, doppler_end, doppler_start), \n",
    "        aspect=(number_of_doppler_pixels/number_of_delay_pixels)/np.abs(doppler_start/delay_start)\n",
    "        )\n",
    "t = plt.text(0.01, 0.85, string, {'color': 'w', 'fontsize': 12}, transform=ax_tds.transAxes)\n",
    "cbar = fig_tds.colorbar(contour_tds, label='Power')\n",
    "\n",
    "print('wind: {0}'.format(mean_wind))"
   ]
  },
  {
   "cell_type": "code",
   "execution_count": 74,
   "metadata": {},
   "outputs": [],
   "source": [
    "class target_processor:\n",
    "\n",
    "    def __init__(self):\n",
    "        self.min_col = 60\n",
    "        #self.max_col = 85\n",
    "        self.max_col = 95\n",
    "        self.ddm_list = []\n",
    "\n",
    "    def cut_noise_region(self, ddm,ddm_ref,new_value=0):\n",
    "        \"\"\"\n",
    "        For each pixel in ddm, replaces the pixel with new_value if the pixel \n",
    "        with same indeces in ddm_ref is less than 0.3\n",
    "        cut_threshold is computed as the mean of the noise region of the ddm_ref \n",
    "        (from column 0 to 40)\n",
    "        \"\"\"\n",
    "        ddm_cut = np.zeros(ddm.shape) + new_value\n",
    "        cut_threshold = 0.15\n",
    "        for row_i, row in enumerate(ddm_cut):\n",
    "            for col_i, val in enumerate(row):\n",
    "                if(col_i >= self.min_col and col_i <= self.max_col):\n",
    "                    if(ddm_ref[row_i][col_i]>=cut_threshold):\n",
    "                        ddm_cut[row_i][col_i] = ddm[row_i][col_i]\n",
    "        return ddm_cut\n",
    "\n",
    "    def process_ddm(self, ddm_raw):\n",
    "        self.ddm_original = (ddm_raw) \n",
    "\n",
    "        n = 30 \n",
    "        if len(self.ddm_list) < n :\n",
    "            self.ddm_list.insert(0, self.ddm_original)\n",
    "            return\n",
    "\n",
    "        # 1. Sea clutter estimation. \n",
    "        # As target appear as bright spots, the initial estimation is based of the \n",
    "        # composition of the minimum values for each pixel for the last n measurements\n",
    "        n = 30 \n",
    "        self.sea_clutter_0 = self.ddm_list[0]\n",
    "        for i in range(1, n):\n",
    "            ddm_i = (self.ddm_list[i])\n",
    "            self.sea_clutter_0 = (self.sea_clutter_0)\n",
    "            for row_i, row in enumerate(self.sea_clutter_0):\n",
    "                for col_i, val in enumerate(row):\n",
    "                    val_i = ddm_i[row_i][col_i]\n",
    "                    val = self.sea_clutter_0[row_i][col_i]\n",
    "                    min,max = np.sort([val_i,val])\n",
    "                    self.sea_clutter_0[row_i][col_i] = 0.5*min +0.5*max\n",
    "        self.sea_clutter_0 = (self.sea_clutter_0)\n",
    "        \n",
    "        # Using the self.sea_clutter_0 as initial estimation a low pass filter that gives \n",
    "        # more weight to the lower values is applied \n",
    "        n = 30 \n",
    "        tau = 0.08\n",
    "        self.sea_clutter = np.array(self.sea_clutter_0)\n",
    "        for i in range(1, n):\n",
    "            ddm_i = (self.ddm_list[i])\n",
    "            self.sea_clutter = (self.sea_clutter)\n",
    "            for row_i, row in enumerate(self.sea_clutter):\n",
    "                for col_i, val in enumerate(row):\n",
    "                    val_i = ddm_i[row_i][col_i]\n",
    "                    val = self.sea_clutter[row_i][col_i]\n",
    "                    #min,max = np.sort([val_i,val])\n",
    "                    #new_val = 0.7*min + 0.3*max;\n",
    "                    self.sea_clutter[row_i][col_i] = val + tau*(val_i - val)\n",
    "        self.sea_clutter = (self.sea_clutter)\n",
    "\n",
    "        # Only the region of the wake is relevant for detection, so we cut the \n",
    "        # irrelevant region\n",
    "        self.sea_clutter_cut = self.cut_noise_region(self.sea_clutter, self.sea_clutter)\n",
    "        self.ddm_original_cut = self.cut_noise_region(self.ddm_original, self.sea_clutter)\n",
    "\n",
    "        # 2. Sea clutter substracted Difference Map\n",
    "        ddm_diff = self.ddm_original_cut - 0.85*self.sea_clutter_cut\n",
    "        if (np.min(ddm_diff) < 0):\n",
    "            ddm_diff = ddm_diff - np.min(ddm_diff)\n",
    "        cut_value_fig = np.min(ddm_diff)\n",
    "        ddm_diff_fig = self.cut_noise_region(ddm_diff,self.sea_clutter,cut_value_fig)\n",
    "        ddm_diff = self.cut_noise_region(ddm_diff,self.sea_clutter)\n",
    "\n",
    "        # 3. Over threshold detection\n",
    "        ddm_detections = np.zeros(ddm_diff.shape)\n",
    "        #threshold = 0.38\n",
    "        threshold = 0.5\n",
    "        print(np.max(ddm_diff))\n",
    "        print(threshold)\n",
    "        for row_i, row in enumerate(ddm_diff):\n",
    "            for col_i, val in enumerate(row):\n",
    "                if(col_i >= self.min_col and col_i <= self.max_col):\n",
    "                    if(ddm_diff[row_i][col_i] >= threshold):\n",
    "                        ddm_detections[row_i][col_i] = 1\n",
    "\n",
    "        # Plotting\n",
    "        \"\"\"\n",
    "        fig_original = plt.figure(figsize=(10, 4))\n",
    "        im_original = plt.imshow(self.ddm_original, cmap='viridis', extent=(0,127,-10,9))\n",
    "        plt.show(block=False)\n",
    "\n",
    "        fig_self.sea_clutter = plt.figure(figsize=(10, 4))\n",
    "        im_self.sea_clutter = plt.imshow(self.sea_clutter, cmap='viridis', extent=(0,127,-10,9))    \n",
    "        plt.show(block=False)\n",
    "\n",
    "        fig_sub = plt.figure(figsize=(10, 4))\n",
    "        im_sub = plt.imshow(ddm_diff, cmap='viridis', extent=(0,127,-10,9))\n",
    "        plt.show(block=False)\n",
    "\n",
    "        fig_detections = plt.figure(figsize=(10, 4))\n",
    "        im_detections = plt.imshow(ddm_detections, cmap='viridis', extent=(0,127,-10,9))\n",
    "        plt.show(block=False)\n",
    "        \"\"\"\n",
    "\n",
    "        \"\"\"\n",
    "        datenum = metagrp.groups[group].variables['IntegrationMidPointTime'][index]\n",
    "        lat = metagrp.groups[group].variables['SpecularPointLat'][index]\n",
    "        lon = metagrp.groups[group].variables['SpecularPointLon'][index]\n",
    "        string = 'G: ' + group + ' I: ' + str(index) + ' - ' + \\\n",
    "                str(datenum) + ' - ' + str(datenum_to_pytime(float(datenum))) + ' - Lat: ' + \\\n",
    "                str(lat) + ' Lon: ' + str(lon) + '\\n'\n",
    "        t = plt.text(5, 5, string, {'color': 'w', 'fontsize': 12})\n",
    "        \"\"\"\n",
    "\n",
    "        \"\"\"\n",
    "        # Plot with pause\n",
    "        plt.draw()\n",
    "        plt.pause(1) \n",
    "        input(\"<Hit Enter To Continue>\")\n",
    "        plt.close(fig_original)\n",
    "        plt.close(fig_self.sea_clutter)\n",
    "        plt.close(fig_sub)\n",
    "        plt.close(fig_detections)\n",
    "        plt.close(fig_labels)\n",
    "        \"\"\"\n",
    "\n",
    "    def plot_targets():\n",
    "        self.fig_labels, self.ax_labels = plt.subplots(1,figsize=(10, 4))\n",
    "        [p.remove() for p in reversed(self.ax_labels.patches)] # Clear previous patches\n",
    "        selfall_labels = label(ddm_detections)\n",
    "        self.ax_labels.imshow(self.ddm_original, cmap='viridis')\n",
    "        target_flag = False\n",
    "        for region in regionprops(selfall_labels):\n",
    "            target_flag = True\n",
    "            minr, minc, maxr, maxc = region.bbox\n",
    "            l = 1 \n",
    "            rect = mpatches.Rectangle((minc-l, minr-l), maxc - minc + 2*l-1, maxr - minr + 2*l - 1, fill=False, edgecolor='red', linewidth=2)\n",
    "            self.ax_labels.add_patch(rect)\n",
    "\n",
    "        plt.draw()\n",
    "        plt.pause(0.0001)\n",
    "\n"
   ]
  },
  {
   "cell_type": "code",
   "execution_count": 109,
   "metadata": {},
   "outputs": [
    {
     "name": "stdout",
     "output_type": "stream",
     "text": [
      "No wind data available\n",
      "0.0\n",
      "0.5\n",
      "0.0\n",
      "0.5\n",
      "0.0\n",
      "0.5\n",
      "0.0\n",
      "0.5\n",
      "0.0\n",
      "0.5\n"
     ]
    },
    {
     "data": {
      "image/png": "[encoded data removed]",
      "text/plain": [
       "<Figure size 720x288 with 2 Axes>"
      ]
     },
     "metadata": {},
     "output_type": "display_data"
    }
   ],
   "source": [
    "from gnssr.simulator.simulation_configuration import *\n",
    "\n",
    "sim_config = simulation_configuration()\n",
    "delay_chip = sim_config.delay_chip\n",
    "# Really good\n",
    "#sim_config.u_10 = 4\n",
    "#sim_config.phi_0 = 35*np.pi/180\n",
    "#sim_config.u_10 = 4\n",
    "#sim_config.phi_0 = 38*np.pi/180\n",
    "sim_config.u_10 = 3.04\n",
    "sim_config.phi_0 = -83*np.pi/180\n",
    "\n",
    "file_root_name = '2015-12-04-H18'\n",
    "target = targets['devils_tower']\n",
    "group = '000066'\n",
    "index =  385\n",
    "\n",
    "tds = tds_data(file_root_name, group, index)\n",
    "\n",
    "# Sea clutter estimation. \n",
    "p = target_processor();\n",
    "for i in range(index - 30, index + 5):\n",
    "    tds.set_group_index(group,i)\n",
    "    ddm = normalize(tds.rootgrp.groups[group].variables['DDM'][i].data)*tds.peak_power()\n",
    "    p.process_ddm(ddm)\n",
    "\n",
    "# Plot TDS DDM sea clutter\n",
    "\n",
    "datenum = tds.rootgrp.groups[tds.group].variables['IntegrationMidPointTime'][tds.index]\n",
    "\n",
    "string = str(datenum_to_pytime(float(datenum))) \\\n",
    "    + ' Lat: ' + \"{0:.2f}\".format(tds.lat_sp_tds) \\\n",
    "    + ' Lon: ' + \"{0:.2f}\".format(tds.lon_sp_tds)\n",
    "\n",
    "number_of_delay_pixels = tds.metagrp.groups[tds.group].NumberOfDelayPixels\n",
    "number_of_doppler_pixels = tds.metagrp.groups[tds.group].NumberOfDopplerPixels\n",
    "\n",
    "delay_start = tds.calculate_delay_increment_chips(0)\n",
    "delay_end = tds.calculate_delay_increment_chips(number_of_delay_pixels-1)\n",
    "doppler_start = tds.calculate_doppler_increment(-np.floor(number_of_doppler_pixels/2))\n",
    "doppler_end = tds.calculate_doppler_increment(np.floor(number_of_doppler_pixels/2 - 0.5))\n",
    "\n",
    "delay_increment_start = sim_config.delay_increment_start \n",
    "delay_increment_end = sim_config.delay_increment_end \n",
    "delay_resolution = sim_config.delay_resolution\n",
    "\n",
    "sim_config.delay_increment_start = delay_start*delay_chip + 2*delay_resolution\n",
    "sim_config.delay_increment_end = delay_end*delay_chip\n",
    "sim_config.doppler_increment_start = -5000\n",
    "sim_config.doppler_increment_end = 5000\n",
    "\n",
    "doppler_increment_start = sim_config.doppler_increment_start\n",
    "doppler_increment_end = sim_config.doppler_increment_end\n",
    "doppler_resolution = sim_config.doppler_resolution\n",
    "\n",
    "fig_tds, ax_tds = plt.subplots(1,figsize=(10, 4))\n",
    "plt.title('TDS-1 Experimental Data')\n",
    "plt.xlabel('C/A chips')\n",
    "plt.ylabel('Hz')\n",
    "contour_ddm = ax_tds.imshow(p.sea_clutter, cmap='jet', \n",
    "        extent=(delay_start, delay_end, doppler_end, doppler_start), \n",
    "        aspect=(number_of_doppler_pixels/number_of_delay_pixels)/np.abs(doppler_start/delay_start)\n",
    "        )\n",
    "t = plt.text(0.01, 0.85, string, {'color': 'w', 'fontsize': 12}, transform=ax_tds.transAxes)\n",
    "cbar = fig_tds.colorbar(contour_ddm, label='Normalized Power')\n",
    "\n"
   ]
  },
  {
   "cell_type": "code",
   "execution_count": 81,
   "metadata": {},
   "outputs": [
    {
     "data": {
      "image/png": "[encoded data removed]",
      "text/plain": [
       "<Figure size 432x288 with 1 Axes>"
      ]
     },
     "metadata": {},
     "output_type": "display_data"
    }
   ],
   "source": [
    "import matplotlib.pyplot as plt\n",
    "x,y = np.random.multivariate_normal([0,0],0.1*np.eye(2),5000).T\n",
    "plt.plot(x,y,'x'); plt.axis('equal'); plt.show()"
   ]
  },
  {
   "cell_type": "code",
   "execution_count": 82,
   "metadata": {},
   "outputs": [
    {
     "data": {
      "text/plain": [
       "<class 'netCDF4._netCDF4.Group'>\n",
       "group /000035:\n",
       "    dimensions(sizes): Delay(128), Doppler(20), DateTimeTrack(722)\n",
       "    variables(dimensions): float64 \u001b[4mDelay\u001b[0m(Delay), float64 \u001b[4mDoppler\u001b[0m(Doppler), float64 \u001b[4mIntegrationMidPointTime\u001b[0m(DateTimeTrack), uint16 \u001b[4mDDM\u001b[0m(DateTimeTrack,Doppler,Delay)\n",
       "    groups: "
      ]
     },
     "execution_count": 82,
     "metadata": {},
     "output_type": "execute_result"
    }
   ],
   "source": []
  },
  {
   "cell_type": "code",
   "execution_count": 92,
   "metadata": {},
   "outputs": [
    {
     "data": {
      "text/plain": [
       "array(295.14362, dtype=float32)"
      ]
     },
     "execution_count": 92,
     "metadata": {},
     "output_type": "execute_result"
    }
   ],
   "source": [
    "tds.metagrp.groups[tds.group].variables['AntennaTemperature'][100].data"
   ]
  },
  {
   "cell_type": "code",
   "execution_count": 98,
   "metadata": {},
   "outputs": [
    {
     "name": "stdout",
     "output_type": "stream",
     "text": [
      "3.105e-18\n"
     ]
    }
   ],
   "source": [
    "T_noise_receiver = 225\n",
    "k_b = 1.38e-23 # J/K\n",
    "y_noise = 1/sim_config.coherent_integration_time*k_b*T_noise_receiver\n",
    "print(y_noise)"
   ]
  },
  {
   "cell_type": "code",
   "execution_count": 110,
   "metadata": {},
   "outputs": [
    {
     "data": {
      "text/plain": [
       "array(2.28218031)"
      ]
     },
     "execution_count": 110,
     "metadata": {},
     "output_type": "execute_result"
    }
   ],
   "source": [
    "file_root_name = '2015-12-04-H18'\n",
    "target = targets['devils_tower']\n",
    "group = '000066'\n",
    "index =  385\n",
    "\n",
    "tds = tds_data(file_root_name, group, index)\n",
    "tds.get_wind()"
   ]
  },
  {
   "cell_type": "code",
   "execution_count": null,
   "metadata": {},
   "outputs": [],
   "source": []
  }
 ],
 "metadata": {
  "kernelspec": {
   "display_name": "Python 3",
   "language": "python",
   "name": "python3"
  },
  "language_info": {
   "codemirror_mode": {
    "name": "ipython",
    "version": 3
   },
   "file_extension": ".py",
   "mimetype": "text/x-python",
   "name": "python",
   "nbconvert_exporter": "python",
   "pygments_lexer": "ipython3",
   "version": "3.6.5"
  }
 },
 "nbformat": 4,
 "nbformat_minor": 2
}
