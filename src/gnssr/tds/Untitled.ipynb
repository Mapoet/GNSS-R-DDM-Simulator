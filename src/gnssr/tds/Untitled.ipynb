{
 "cells": [
  {
   "cell_type": "code",
   "execution_count": 4,
   "metadata": {},
   "outputs": [],
   "source": [
    "#!/usr/bin/env python\n",
    "\n",
    "import numpy as np\n",
    "import os\n",
    "from shapely import geometry\n",
    "import tkinter\n",
    "import matplotlib.pyplot as plt\n",
    "from netCDF4 import Dataset\n",
    "\n",
    "from gnssr.tds.tds_data import *\n",
    "from gnssr.utils import *\n",
    "from gnssr.targets import *\n",
    "from gnssr.tds.search_target.cdf4_search import *\n",
    "\n"
   ]
  },
  {
   "cell_type": "code",
   "execution_count": 5,
   "metadata": {},
   "outputs": [
    {
     "data": {
      "image/png": "[encoded data removed]",
      "text/plain": [
       "<Figure size 720x288 with 1 Axes>"
      ]
     },
     "metadata": {},
     "output_type": "display_data"
    }
   ],
   "source": [
    "# Di Simone\n",
    "file_root_name = 'raw/L1B/2015-04-01-H00'\n",
    "target = targets['hibernia']\n",
    "group = '000095'\n",
    "index = 525\n",
    "\n",
    "tds = tds_data(file_root_name)\n",
    "tds.set_group_index(group, index)\n",
    "tds.plot_ddm()"
   ]
  },
  {
   "cell_type": "code",
   "execution_count": 11,
   "metadata": {},
   "outputs": [
    {
     "name": "stdout",
     "output_type": "stream",
     "text": [
      "736055.013629537\n",
      "736055.013629537\n"
     ]
    }
   ],
   "source": [
    "print(tds.rootgrp.groups[tds.group].variables['IntegrationMidPointTime'][tds.index].data)\n",
    "print(tds.metagrp.groups[tds.group].variables['IntegrationMidPointTime'][tds.index].data)"
   ]
  },
  {
   "cell_type": "code",
   "execution_count": 14,
   "metadata": {},
   "outputs": [
    {
     "name": "stdout",
     "output_type": "stream",
     "text": [
      "<class 'netCDF4._netCDF4.Group'>\n",
      "group /000095:\n",
      "    TrackID: 95\n",
      "    DataTag: 4\n",
      "    PtrId: 365\n",
      "    ReflectionChannelNumber: 1\n",
      "    MasterChannelNumber: 12\n",
      "    PRN: 11\n",
      "    SVN: 46\n",
      "    GnssBlock: 5\n",
      "    GnssBlock_units: SSTL.ZTCDataMergeTools.TransmitterCorrections+GPSBlockEnum>0:Unknown,1:BlockI,2:BlockII,3:BlockIIA,4:BlockIIR,5:BlockIIR_A,6:BlockIIR_B,7:BlockIIR_M,8:BlockIIF\n",
      "    FrontEnd: 1\n",
      "    FrontEnd_units: SSTL.ZTCDataMergeTools.TrackMetaDataHeader+FrontEndEnum>0:ZenithL1_DF,1:NadirL1,2:ZenithL1_CLAP,3:ZenithL1_CAP,4:Unknown5,5:Unknown6,6:ZenithL2_DF,7:NadirL2,8:Unknown\n",
      "    SignalType: 1\n",
      "    SignalType_units: SSTL.ZTCDataMergeTools.TrackMetaDataHeader+SignalTypeEnum>0:NO_SIGNAL,1:GPS_L1\n",
      "    SamplingFrequency: 16367000.0\n",
      "    AllocationMode: 1\n",
      "    AllocationMode_units: SSTL.ZTCDataMergeTools.TrackMetaDataHeader+AllocationModeEnum>0:Manual,1:Auto,2:Unknown\n",
      "    TrackingMode: 2\n",
      "    TrackingMode_units: SSTL.ZTCStreamProcessing.DDMTrackHeader+TrackingModeEnum>0:Idle,1:DirectSignalOverride,2:OpenLoopReflection,3:ZenithBlackBody\n",
      "    FrontEndGainMode: 1\n",
      "    FrontEndGainMode_units: SSTL.ZTCDataMergeTools.TrackMetaDataHeader+FrontEndGainModeEnum>0:FixedGain,1:AutoUnmonitored,2:AutomaticMonitored\n",
      "    FrontEndGainControlSetting: 0\n",
      "    LNASwitchStatus: 0\n",
      "    LNASwitchStatus_units: SSTL.ZTCDataMergeTools.TrackMetaDataHeader+LNASwitchStatusEnum>0:Antenna,1:Reference\n",
      "    CoherentIntegrationTime: 1.0\n",
      "    DelayResolution: 244.3942108154297\n",
      "    CodeDelaySpacingSamplesBetweenPixels: 4\n",
      "    DopplerResolution: 500.0\n",
      "    IncoherentIntegrations: 1000\n",
      "    NumberOfDelayPixels: 128\n",
      "    NumberOfDopplerPixels: 20\n",
      "    TrackingOffsetDelayNs: 15641.228302001953\n",
      "    TrackingOffsetDelayInPixels: 63.999995130058345\n",
      "    TrackingOffsetDopplerHz: 0.0\n",
      "    TrackingOffsetDopplerInPixels: 0.0\n",
      "    dimensions(sizes): DateTimeTrack(728)\n",
      "    variables(dimensions): float64 \u001b[4mIntegrationMidPointTime\u001b[0m(DateTimeTrack), float64 \u001b[4mTransmitterPositionX\u001b[0m(DateTimeTrack), float64 \u001b[4mTransmitterPositionY\u001b[0m(DateTimeTrack), float64 \u001b[4mTransmitterPositionZ\u001b[0m(DateTimeTrack), float64 \u001b[4mTransmitterVelocityX\u001b[0m(DateTimeTrack), float64 \u001b[4mTransmitterVelocityY\u001b[0m(DateTimeTrack), float64 \u001b[4mTransmitterVelocityZ\u001b[0m(DateTimeTrack), float64 \u001b[4mSpecularPointPositionX\u001b[0m(DateTimeTrack), float64 \u001b[4mSpecularPointPositionY\u001b[0m(DateTimeTrack), float64 \u001b[4mSpecularPointPositionZ\u001b[0m(DateTimeTrack), float32 \u001b[4mSpecularPointLat\u001b[0m(DateTimeTrack), float32 \u001b[4mSpecularPointLon\u001b[0m(DateTimeTrack), float64 \u001b[4mSpecularPathRangeOffset\u001b[0m(DateTimeTrack), float32 \u001b[4mSPIncidenceAngle\u001b[0m(DateTimeTrack), float32 \u001b[4mSPElevationORF\u001b[0m(DateTimeTrack), float32 \u001b[4mSPAzimuthORF\u001b[0m(DateTimeTrack), float32 \u001b[4mSPElevationARF\u001b[0m(DateTimeTrack), float32 \u001b[4mSPAzimuthARF\u001b[0m(DateTimeTrack), uint8 \u001b[4mDirectSignalInDDM\u001b[0m(DateTimeTrack), float32 \u001b[4mLNATemperature\u001b[0m(DateTimeTrack), float32 \u001b[4mADCPercentagePositive\u001b[0m(DateTimeTrack), float32 \u001b[4mADCOffset\u001b[0m(DateTimeTrack), float32 \u001b[4mADCPercentageMagnitude\u001b[0m(DateTimeTrack), float32 \u001b[4mAntennaGainTowardsSpecularPoint\u001b[0m(DateTimeTrack), float32 \u001b[4mAntennaGainRangeMin\u001b[0m(DateTimeTrack), float32 \u001b[4mAntennaGainRangeMax\u001b[0m(DateTimeTrack), float64 \u001b[4mDDMOutputNumericalScaling\u001b[0m(DateTimeTrack), float64 \u001b[4mDDMPixelValueNoise\u001b[0m(DateTimeTrack), float64 \u001b[4mMeanNoiseHighDoppler\u001b[0m(DateTimeTrack), float64 \u001b[4mMeanNoiseBox\u001b[0m(DateTimeTrack), float64 \u001b[4mKurtosisNoiseBox\u001b[0m(DateTimeTrack), float64 \u001b[4mNoiseBoxRows\u001b[0m(DateTimeTrack), float64 \u001b[4mDDMSNRAtPeakSingleDDM\u001b[0m(DateTimeTrack), float32 \u001b[4mAntennaTemperature\u001b[0m(DateTimeTrack), float32 \u001b[4mAntennaTemperatureExtRef\u001b[0m(DateTimeTrack)\n",
      "    groups: \n",
      "\n"
     ]
    }
   ],
   "source": [
    "code_delay_spacing_samples_between_pixels = tds.metagrp.groups[tds.group]\n",
    "print(code_delay_spacing_samples_between_pixels)"
   ]
  },
  {
   "cell_type": "code",
   "execution_count": null,
   "metadata": {},
   "outputs": [],
   "source": []
  }
 ],
 "metadata": {
  "kernelspec": {
   "display_name": "Python 3",
   "language": "python",
   "name": "python3"
  },
  "language_info": {
   "codemirror_mode": {
    "name": "ipython",
    "version": 3
   },
   "file_extension": ".py",
   "mimetype": "text/x-python",
   "name": "python",
   "nbconvert_exporter": "python",
   "pygments_lexer": "ipython3",
   "version": "3.6.5"
  }
 },
 "nbformat": 4,
 "nbformat_minor": 2
}
