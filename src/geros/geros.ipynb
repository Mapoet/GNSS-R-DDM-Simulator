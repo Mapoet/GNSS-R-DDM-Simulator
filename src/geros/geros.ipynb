{
 "cells": [
  {
   "cell_type": "code",
   "execution_count": 2,
   "metadata": {},
   "outputs": [],
   "source": [
    "import scipy.io as sio"
   ]
  },
  {
   "cell_type": "code",
   "execution_count": 3,
   "metadata": {},
   "outputs": [],
   "source": [
    "mat_contents = sio.loadmat('raw/L1_OUTPUT_M3_ALT.mat')"
   ]
  },
  {
   "cell_type": "code",
   "execution_count": 5,
   "metadata": {},
   "outputs": [
    {
     "data": {
      "text/plain": [
       "array([[3.70169485e+08, 3.75466596e+08, 3.76805334e+08, ...,\n",
       "        5.11351102e+08, 5.07850055e+08, 5.07767868e+08],\n",
       "       [3.68049820e+08, 3.73714767e+08, 3.77482811e+08, ...,\n",
       "        4.88653216e+08, 4.85797026e+08, 4.83292181e+08],\n",
       "       [3.65367161e+08, 3.68322231e+08, 3.71745934e+08, ...,\n",
       "        4.70234868e+08, 4.68171501e+08, 4.70688882e+08],\n",
       "       ...,\n",
       "       [3.73957611e+08, 3.73770957e+08, 3.78579110e+08, ...,\n",
       "        4.49037904e+08, 4.54495977e+08, 4.61992891e+08],\n",
       "       [3.81618418e+08, 3.82632593e+08, 3.86550727e+08, ...,\n",
       "        4.62450505e+08, 4.67291451e+08, 4.69924559e+08],\n",
       "       [3.76040877e+08, 3.83212252e+08, 3.85606175e+08, ...,\n",
       "        4.90362654e+08, 4.93866655e+08, 5.02749954e+08]])"
      ]
     },
     "execution_count": 5,
     "metadata": {},
     "output_type": "execute_result"
    }
   ],
   "source": [
    "mat_contents['L1DDM_Incoh_Avg']"
   ]
  },
  {
   "cell_type": "code",
   "execution_count": 7,
   "metadata": {},
   "outputs": [
    {
     "data": {
      "image/png": "[encoded data removed]",
      "text/plain": [
       "<Figure size 432x288 with 1 Axes>"
      ]
     },
     "metadata": {},
     "output_type": "display_data"
    }
   ],
   "source": [
    "import matplotlib.pyplot as plt\n",
    "import matplotlib.animation as animation\n",
    "from IPython.display import HTML\n",
    "#fig = plt.figure(figsize=(10, 4))\n",
    "fig = plt.figure()\n",
    "\n",
    "ddm = mat_contents['L1DDM_Incoh_Avg']\n",
    "im = plt.imshow(ddm, cmap='viridis', extent=(0,127,-10,9))\n"
   ]
  },
  {
   "cell_type": "code",
   "execution_count": null,
   "metadata": {},
   "outputs": [],
   "source": [
    "#TODO: interpolate using https://docs.scipy.org/doc/scipy-0.14.0/reference/generated/scipy.interpolate.interp2d.html\n"
   ]
  }
 ],
 "metadata": {
  "kernelspec": {
   "display_name": "Python 3",
   "language": "python",
   "name": "python3"
  },
  "language_info": {
   "codemirror_mode": {
    "name": "ipython",
    "version": 3
   },
   "file_extension": ".py",
   "mimetype": "text/x-python",
   "name": "python",
   "nbconvert_exporter": "python",
   "pygments_lexer": "ipython3",
   "version": "3.6.5"
  }
 },
 "nbformat": 4,
 "nbformat_minor": 2
}
